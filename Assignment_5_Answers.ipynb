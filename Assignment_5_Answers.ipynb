{
 "cells": [
  {
   "cell_type": "markdown",
   "id": "b264b4c2",
   "metadata": {},
   "source": [
    "<h1 align=\"center\" ><span style=\"color: blue; font-size: 48px; \"><b> Assignment No. 5</b></span></h1>\n",
    "\n",
    "<h1 style=\"font-family: Trebuchet MS; font-size: 14px; color: #34495E; text-align: right; \">Submitted By: Sachin Dodake</h1>\n",
    "\n",
    "<hr style=\"height:3px;border-width:1;color:blue;background-color:blue\">"
   ]
  },
  {
   "cell_type": "markdown",
   "id": "da4c55d5",
   "metadata": {
    "ExecuteTime": {
     "end_time": "2023-05-29T17:59:56.281974Z",
     "start_time": "2023-05-29T17:59:56.273832Z"
    }
   },
   "source": [
    "###  1. What does an empty dictionary's code look like?"
   ]
  },
  {
   "cell_type": "markdown",
   "id": "9a9d0dd1",
   "metadata": {},
   "source": [
    "**`Ans-1`**\n",
    "\n",
    "> **`Dictionary:`**\n",
    ">- Dictionary in Python is an unordered collection of data values, used to store data values like a map, which unlike other Data Types that hold only a single value as an element, Dictionary holds key:value pair. Key-value is provided in the dictionary to make it more optimized. \n",
    ">- We can create an empty dictionary object by giving no elements in curly brackets in the assignment statement.\n",
    ">- **`Example:`**"
   ]
  },
  {
   "cell_type": "code",
   "execution_count": 9,
   "id": "7f49b698",
   "metadata": {
    "ExecuteTime": {
     "end_time": "2023-05-29T18:09:17.806147Z",
     "start_time": "2023-05-29T18:09:17.802137Z"
    }
   },
   "outputs": [
    {
     "name": "stdout",
     "output_type": "stream",
     "text": [
      "The empty dictionary is : {}\n",
      "The Length  of dictionary is : 0\n",
      "The type of dictionary is : <class 'dict'>\n"
     ]
    }
   ],
   "source": [
    "# Python3 code to demonstrate use of\n",
    "\n",
    "emptyDict = {}               # {} symbol to initialize empty dictionary\n",
    "\n",
    "print(f\"The empty dictionary is : {emptyDict}\")           # print dictionary\n",
    "\n",
    "print(f\"The Length  of dictionary is : {len(emptyDict)}\" )        # print length of dictionary\n",
    "\n",
    "print(f\"The type of dictionary is : {type(emptyDict)}\")                   # print type\n"
   ]
  },
  {
   "cell_type": "markdown",
   "id": "d2556897",
   "metadata": {
    "ExecuteTime": {
     "end_time": "2023-05-29T17:59:56.297239Z",
     "start_time": "2023-05-29T17:59:56.285225Z"
    }
   },
   "source": [
    "###  2. What is the value of a dictionary value with the key 'foo' and the value 42?"
   ]
  },
  {
   "cell_type": "markdown",
   "id": "477eafd5",
   "metadata": {},
   "source": [
    "**`Ans-2`**\n",
    "\n",
    ">- Dictionary holds key:value pair. Key-value is provided in the dictionary to make it more optimized.\n",
    ">- Here, the given key and value are : **`key = 'foo'`** , **`value=42`**.\n",
    ">- Therefore the structure of dictionary is shown as below:"
   ]
  },
  {
   "cell_type": "code",
   "execution_count": 11,
   "id": "3825435b",
   "metadata": {
    "ExecuteTime": {
     "end_time": "2023-05-29T18:12:48.388577Z",
     "start_time": "2023-05-29T18:12:48.373839Z"
    }
   },
   "outputs": [
    {
     "name": "stdout",
     "output_type": "stream",
     "text": [
      "The dictionary with given key & value is : {'foo': 42}\n"
     ]
    }
   ],
   "source": [
    "dict = {'foo':42}\n",
    "\n",
    "print(f\"The dictionary with given key & value is : {dict}\")"
   ]
  },
  {
   "cell_type": "markdown",
   "id": "97c3e774",
   "metadata": {
    "ExecuteTime": {
     "end_time": "2023-05-29T17:59:56.313241Z",
     "start_time": "2023-05-29T17:59:56.300236Z"
    }
   },
   "source": [
    "###  3. What is the most significant distinction between a dictionary and a list?"
   ]
  },
  {
   "cell_type": "markdown",
   "id": "8572ef8f",
   "metadata": {},
   "source": [
    "**`Ans-3`**\n",
    ">- `Lists` are used to store the data, which should be ordered and sequential. On the other hand, `dictionary` is used to store large amounts of data for easy and quick access. \n",
    ">- `List` is ordered and mutable, whereas `dictionaries are` unordered and mutable."
   ]
  },
  {
   "cell_type": "markdown",
   "id": "23d79c39",
   "metadata": {
    "ExecuteTime": {
     "end_time": "2023-05-29T17:59:56.328804Z",
     "start_time": "2023-05-29T17:59:56.317011Z"
    }
   },
   "source": [
    "###  4. What happens if you try to access spam['foo'] if spam is {'bar': 100}?"
   ]
  },
  {
   "cell_type": "markdown",
   "id": "71277588",
   "metadata": {},
   "source": [
    "**`Ans-4`**\n",
    "\n",
    ">- If we try to access `spam['foo']` if `spam = {'bar':100}`, then we will get ERROR as shown below,"
   ]
  },
  {
   "cell_type": "code",
   "execution_count": 14,
   "id": "2023cd6c",
   "metadata": {
    "ExecuteTime": {
     "end_time": "2023-05-29T18:16:43.037521Z",
     "start_time": "2023-05-29T18:16:43.005605Z"
    }
   },
   "outputs": [
    {
     "ename": "KeyError",
     "evalue": "'foo'",
     "output_type": "error",
     "traceback": [
      "\u001b[1;31m---------------------------------------------------------------------------\u001b[0m",
      "\u001b[1;31mKeyError\u001b[0m                                  Traceback (most recent call last)",
      "Input \u001b[1;32mIn [14]\u001b[0m, in \u001b[0;36m<cell line: 4>\u001b[1;34m()\u001b[0m\n\u001b[0;32m      1\u001b[0m \u001b[38;5;66;03m# given conditions\u001b[39;00m\n\u001b[0;32m      2\u001b[0m spam \u001b[38;5;241m=\u001b[39m {\u001b[38;5;124m'\u001b[39m\u001b[38;5;124mbar\u001b[39m\u001b[38;5;124m'\u001b[39m:\u001b[38;5;241m100\u001b[39m}\n\u001b[1;32m----> 4\u001b[0m \u001b[43mspam\u001b[49m\u001b[43m[\u001b[49m\u001b[38;5;124;43m'\u001b[39;49m\u001b[38;5;124;43mfoo\u001b[39;49m\u001b[38;5;124;43m'\u001b[39;49m\u001b[43m]\u001b[49m\n",
      "\u001b[1;31mKeyError\u001b[0m: 'foo'"
     ]
    }
   ],
   "source": [
    "# given conditions\n",
    "spam = {'bar':100}\n",
    "\n",
    "spam['foo']                     #This will give us key error"
   ]
  },
  {
   "cell_type": "markdown",
   "id": "bd5deae4",
   "metadata": {
    "ExecuteTime": {
     "end_time": "2023-05-29T17:59:56.344072Z",
     "start_time": "2023-05-29T17:59:56.331812Z"
    }
   },
   "source": [
    "###  5. If a dictionary is stored in spam, what is the difference between the expressions 'cat' in spam and 'cat' in spam.keys()?"
   ]
  },
  {
   "cell_type": "markdown",
   "id": "b97231fe",
   "metadata": {},
   "source": [
    "**`Ans-5`**\n",
    "\n",
    "\n",
    ">- Let us assume, spam is a dictioanry with key='cat` and `value=100`.\n",
    ">- If we tried to run `cat in spam` then we will get output as a `True`.\n",
    ">- If we tried to run` cat in spam.keys()` then we will get output as a `True`.\n",
    ">- **Example: ** The result of both statement shown below:"
   ]
  },
  {
   "cell_type": "code",
   "execution_count": 19,
   "id": "06d912e8",
   "metadata": {
    "ExecuteTime": {
     "end_time": "2023-05-29T18:22:15.174692Z",
     "start_time": "2023-05-29T18:22:15.161290Z"
    }
   },
   "outputs": [
    {
     "name": "stdout",
     "output_type": "stream",
     "text": [
      "True\n",
      "True\n"
     ]
    }
   ],
   "source": [
    "spam ={'cat':100}\n",
    "\n",
    "print('cat' in spam)\n",
    "print('cat' in spam.keys())"
   ]
  },
  {
   "cell_type": "markdown",
   "id": "91237a98",
   "metadata": {
    "ExecuteTime": {
     "end_time": "2023-05-29T17:59:56.360052Z",
     "start_time": "2023-05-29T17:59:56.347055Z"
    }
   },
   "source": [
    "###  6. If a dictionary is stored in spam, what is the difference between the expressions 'cat' in spam and 'cat' in spam.values()?"
   ]
  },
  {
   "cell_type": "markdown",
   "id": "065483a5",
   "metadata": {},
   "source": [
    "**`Ans-6`**\n",
    "\n",
    ">- Let us assume, spam is a dictioanry with key='cat` and `value=100`.\n",
    ">- If we tried to run `cat in spam` then we will get output as a `True`.\n",
    ">- If we tried to run` cat in spam.value()` then we will get output as a `False`.\n",
    ">- **Example: ** The result of both statement shown below:"
   ]
  },
  {
   "cell_type": "code",
   "execution_count": 21,
   "id": "7db1961f",
   "metadata": {
    "ExecuteTime": {
     "end_time": "2023-05-29T18:25:00.557418Z",
     "start_time": "2023-05-29T18:25:00.541195Z"
    }
   },
   "outputs": [
    {
     "name": "stdout",
     "output_type": "stream",
     "text": [
      "True\n",
      "False\n"
     ]
    }
   ],
   "source": [
    "spam ={'cat':100}\n",
    "\n",
    "print('cat' in spam)\n",
    "print('cat' in spam.values())"
   ]
  },
  {
   "cell_type": "markdown",
   "id": "9c8d49df",
   "metadata": {
    "ExecuteTime": {
     "end_time": "2023-05-29T17:59:56.376154Z",
     "start_time": "2023-05-29T17:59:56.364149Z"
    }
   },
   "source": [
    "###  7. What is a shortcut for the following code?\n",
    "            if 'color' not in spam:\n",
    "                    spam['color'] = 'black'"
   ]
  },
  {
   "cell_type": "markdown",
   "id": "dd7130d5",
   "metadata": {},
   "source": [
    "**`Ans-7`**\n",
    "\n",
    ">- The shortcut for the given code is shown below:"
   ]
  },
  {
   "cell_type": "code",
   "execution_count": 22,
   "id": "41059ab5",
   "metadata": {
    "ExecuteTime": {
     "end_time": "2023-05-29T18:26:13.932047Z",
     "start_time": "2023-05-29T18:26:13.918082Z"
    }
   },
   "outputs": [
    {
     "data": {
      "text/plain": [
       "{'cat': 100, 'color': 'black'}"
      ]
     },
     "execution_count": 22,
     "metadata": {},
     "output_type": "execute_result"
    }
   ],
   "source": [
    "spam ={'cat':100}\n",
    "spam.setdefault('color','black')\n",
    "spam"
   ]
  },
  {
   "cell_type": "markdown",
   "id": "d9e3fc9b",
   "metadata": {
    "ExecuteTime": {
     "end_time": "2023-05-29T17:59:56.379144Z",
     "start_time": "2023-05-29T17:59:56.379144Z"
    }
   },
   "source": [
    "###  8. How do you \"pretty print\" dictionary values using which module and function?"
   ]
  },
  {
   "cell_type": "markdown",
   "id": "ccb3ad47",
   "metadata": {},
   "source": [
    "**`Ans-8`**\n",
    ">- The `pretty print` dictionary values using module and functions can be arranged as below"
   ]
  },
  {
   "cell_type": "code",
   "execution_count": 35,
   "id": "c76c84a9",
   "metadata": {
    "ExecuteTime": {
     "end_time": "2023-05-29T18:29:05.472777Z",
     "start_time": "2023-05-29T18:29:05.453393Z"
    }
   },
   "outputs": [],
   "source": [
    "import pprint\n",
    "\n",
    "dct = [ {'Name': 'Shiva', 'Age': '23', 'Country': 'India'},\n",
    "  {'Name': 'Anna', 'Age': '44', 'Country': 'China'},\n",
    "  {'Name': 'Joe', 'Age': '29', 'Country': 'UK'},\n",
    "  {'Name': 'Chumlee', 'Age': '35', 'Country': 'USA'}\n",
    "]"
   ]
  },
  {
   "cell_type": "code",
   "execution_count": 36,
   "id": "412d7678",
   "metadata": {
    "ExecuteTime": {
     "end_time": "2023-05-29T18:29:06.272999Z",
     "start_time": "2023-05-29T18:29:06.255636Z"
    }
   },
   "outputs": [
    {
     "name": "stdout",
     "output_type": "stream",
     "text": [
      "[{'Age': '23', 'Country': 'India', 'Name': 'Shiva'},\n",
      " {'Age': '44', 'Country': 'China', 'Name': 'Anna'},\n",
      " {'Age': '29', 'Country': 'UK', 'Name': 'Joe'},\n",
      " {'Age': '35', 'Country': 'USA', 'Name': 'Chumlee'}]\n"
     ]
    }
   ],
   "source": [
    "# printing with pprint()\n",
    "pprint.pprint(dct)"
   ]
  },
  {
   "cell_type": "code",
   "execution_count": 38,
   "id": "32f48679",
   "metadata": {
    "ExecuteTime": {
     "end_time": "2023-05-29T18:29:14.542973Z",
     "start_time": "2023-05-29T18:29:14.537978Z"
    }
   },
   "outputs": [
    {
     "name": "stdout",
     "output_type": "stream",
     "text": [
      "[{'Name': 'Shiva', 'Age': '23', 'Country': 'India'}, {'Name': 'Anna', 'Age': '44', 'Country': 'China'}, {'Name': 'Joe', 'Age': '29', 'Country': 'UK'}, {'Name': 'Chumlee', 'Age': '35', 'Country': 'USA'}]\n"
     ]
    }
   ],
   "source": [
    "# Printing with print()\n",
    "print(dct)"
   ]
  }
 ],
 "metadata": {
  "hide_input": false,
  "kernelspec": {
   "display_name": "Python 3 (ipykernel)",
   "language": "python",
   "name": "python3"
  },
  "language_info": {
   "codemirror_mode": {
    "name": "ipython",
    "version": 3
   },
   "file_extension": ".py",
   "mimetype": "text/x-python",
   "name": "python",
   "nbconvert_exporter": "python",
   "pygments_lexer": "ipython3",
   "version": "3.10.9"
  },
  "varInspector": {
   "cols": {
    "lenName": 16,
    "lenType": 16,
    "lenVar": 40
   },
   "kernels_config": {
    "python": {
     "delete_cmd_postfix": "",
     "delete_cmd_prefix": "del ",
     "library": "var_list.py",
     "varRefreshCmd": "print(var_dic_list())"
    },
    "r": {
     "delete_cmd_postfix": ") ",
     "delete_cmd_prefix": "rm(",
     "library": "var_list.r",
     "varRefreshCmd": "cat(var_dic_list()) "
    }
   },
   "types_to_exclude": [
    "module",
    "function",
    "builtin_function_or_method",
    "instance",
    "_Feature"
   ],
   "window_display": false
  }
 },
 "nbformat": 4,
 "nbformat_minor": 5
}
